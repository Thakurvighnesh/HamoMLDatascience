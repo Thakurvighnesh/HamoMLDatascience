{
  "nbformat": 4,
  "nbformat_minor": 0,
  "metadata": {
    "colab": {
      "name": "Logistic Regression tutorials.ipynb",
      "provenance": [],
      "authorship_tag": "ABX9TyP7HsjwkR2T5dOG22fbItF8",
      "include_colab_link": true
    },
    "kernelspec": {
      "name": "python3",
      "display_name": "Python 3"
    },
    "language_info": {
      "name": "python"
    }
  },
  "cells": [
    {
      "cell_type": "markdown",
      "metadata": {
        "id": "view-in-github",
        "colab_type": "text"
      },
      "source": [
        "<a href=\"https://colab.research.google.com/github/Thakurvighnesh/HamoMLDatascience/blob/main/Logistic_Regression_tutorials.ipynb\" target=\"_parent\"><img src=\"https://colab.research.google.com/assets/colab-badge.svg\" alt=\"Open In Colab\"/></a>"
      ]
    },
    {
      "cell_type": "code",
      "metadata": {
        "id": "tjFyepGHHxTR"
      },
      "source": [
        "#import the libraries\n",
        "import pandas as pd\n",
        "import numpy as np"
      ],
      "execution_count": 1,
      "outputs": []
    },
    {
      "cell_type": "code",
      "metadata": {
        "colab": {
          "base_uri": "https://localhost:8080/"
        },
        "id": "e1NoOe41IsCn",
        "outputId": "f7405e02-b33a-4abe-c57f-9864b83b2703"
      },
      "source": [
        "#using pandas to download the dataset (uncomment the code below and execute them)\n",
        "df = pd.read_csv('https://query.data.world/s/wh6j7rxy2hvrn4ml75ci62apk5hgae')\n",
        "df.to_csv('dataset.csv')"
      ],
      "execution_count": 4,
      "outputs": [
        {
          "output_type": "stream",
          "name": "stderr",
          "text": [
            "/usr/local/lib/python3.7/dist-packages/IPython/core/interactiveshell.py:2718: DtypeWarning: Columns (6) have mixed types.Specify dtype option on import or set low_memory=False.\n",
            "  interactivity=interactivity, compiler=compiler, result=result)\n"
          ]
        }
      ]
    },
    {
      "cell_type": "code",
      "metadata": {
        "colab": {
          "base_uri": "https://localhost:8080/",
          "height": 223
        },
        "id": "u4626Y_kJU7W",
        "outputId": "85ea895f-3c6c-4dce-9c2d-554ee992ee70"
      },
      "source": [
        "#load the dataset\n",
        "df = pd.read_csv('dataset.csv', low_memory=False)\n",
        "df.head()"
      ],
      "execution_count": 5,
      "outputs": [
        {
          "output_type": "execute_result",
          "data": {
            "text/html": [
              "<div>\n",
              "<style scoped>\n",
              "    .dataframe tbody tr th:only-of-type {\n",
              "        vertical-align: middle;\n",
              "    }\n",
              "\n",
              "    .dataframe tbody tr th {\n",
              "        vertical-align: top;\n",
              "    }\n",
              "\n",
              "    .dataframe thead th {\n",
              "        text-align: right;\n",
              "    }\n",
              "</style>\n",
              "<table border=\"1\" class=\"dataframe\">\n",
              "  <thead>\n",
              "    <tr style=\"text-align: right;\">\n",
              "      <th></th>\n",
              "      <th>Unnamed: 0</th>\n",
              "      <th>country</th>\n",
              "      <th>year</th>\n",
              "      <th>country_code</th>\n",
              "      <th>record</th>\n",
              "      <th>crop_land</th>\n",
              "      <th>grazing_land</th>\n",
              "      <th>forest_land</th>\n",
              "      <th>fishing_ground</th>\n",
              "      <th>built_up_land</th>\n",
              "      <th>carbon</th>\n",
              "      <th>total</th>\n",
              "      <th>QScore</th>\n",
              "    </tr>\n",
              "  </thead>\n",
              "  <tbody>\n",
              "    <tr>\n",
              "      <th>0</th>\n",
              "      <td>0</td>\n",
              "      <td>Armenia</td>\n",
              "      <td>1992</td>\n",
              "      <td>1</td>\n",
              "      <td>AreaPerCap</td>\n",
              "      <td>0.140292</td>\n",
              "      <td>0.199546</td>\n",
              "      <td>0.097188051</td>\n",
              "      <td>0.036888</td>\n",
              "      <td>0.029320</td>\n",
              "      <td>0.000000</td>\n",
              "      <td>5.032351e-01</td>\n",
              "      <td>3A</td>\n",
              "    </tr>\n",
              "    <tr>\n",
              "      <th>1</th>\n",
              "      <td>1</td>\n",
              "      <td>Armenia</td>\n",
              "      <td>1992</td>\n",
              "      <td>1</td>\n",
              "      <td>AreaTotHA</td>\n",
              "      <td>483000.000000</td>\n",
              "      <td>687000.000000</td>\n",
              "      <td>334600</td>\n",
              "      <td>127000.000000</td>\n",
              "      <td>100943.000800</td>\n",
              "      <td>0.000000</td>\n",
              "      <td>1.732543e+06</td>\n",
              "      <td>3A</td>\n",
              "    </tr>\n",
              "    <tr>\n",
              "      <th>2</th>\n",
              "      <td>2</td>\n",
              "      <td>Armenia</td>\n",
              "      <td>1992</td>\n",
              "      <td>1</td>\n",
              "      <td>BiocapPerCap</td>\n",
              "      <td>0.159804</td>\n",
              "      <td>0.135261</td>\n",
              "      <td>0.084003213</td>\n",
              "      <td>0.013742</td>\n",
              "      <td>0.033398</td>\n",
              "      <td>0.000000</td>\n",
              "      <td>4.262086e-01</td>\n",
              "      <td>3A</td>\n",
              "    </tr>\n",
              "    <tr>\n",
              "      <th>3</th>\n",
              "      <td>3</td>\n",
              "      <td>Armenia</td>\n",
              "      <td>1992</td>\n",
              "      <td>1</td>\n",
              "      <td>BiocapTotGHA</td>\n",
              "      <td>550176.242700</td>\n",
              "      <td>465677.972200</td>\n",
              "      <td>289207.1078</td>\n",
              "      <td>47311.551720</td>\n",
              "      <td>114982.279300</td>\n",
              "      <td>0.000000</td>\n",
              "      <td>1.467355e+06</td>\n",
              "      <td>3A</td>\n",
              "    </tr>\n",
              "    <tr>\n",
              "      <th>4</th>\n",
              "      <td>4</td>\n",
              "      <td>Armenia</td>\n",
              "      <td>1992</td>\n",
              "      <td>1</td>\n",
              "      <td>EFConsPerCap</td>\n",
              "      <td>0.387510</td>\n",
              "      <td>0.189462</td>\n",
              "      <td>1.26E-06</td>\n",
              "      <td>0.004165</td>\n",
              "      <td>0.033398</td>\n",
              "      <td>1.114093</td>\n",
              "      <td>1.728629e+00</td>\n",
              "      <td>3A</td>\n",
              "    </tr>\n",
              "  </tbody>\n",
              "</table>\n",
              "</div>"
            ],
            "text/plain": [
              "   Unnamed: 0  country  year  ...    carbon         total  QScore\n",
              "0           0  Armenia  1992  ...  0.000000  5.032351e-01      3A\n",
              "1           1  Armenia  1992  ...  0.000000  1.732543e+06      3A\n",
              "2           2  Armenia  1992  ...  0.000000  4.262086e-01      3A\n",
              "3           3  Armenia  1992  ...  0.000000  1.467355e+06      3A\n",
              "4           4  Armenia  1992  ...  1.114093  1.728629e+00      3A\n",
              "\n",
              "[5 rows x 13 columns]"
            ]
          },
          "metadata": {},
          "execution_count": 5
        }
      ]
    },
    {
      "cell_type": "code",
      "metadata": {
        "id": "iA-kb0jgJX9P"
      },
      "source": [
        "\n",
        "#drop the unnamed column\n",
        "\n",
        "df.drop('Unnamed: 0', axis = 1, inplace = True)"
      ],
      "execution_count": 6,
      "outputs": []
    },
    {
      "cell_type": "code",
      "metadata": {
        "colab": {
          "base_uri": "https://localhost:8080/"
        },
        "id": "plapfVErJZlm",
        "outputId": "4772cd9c-c992-4543-ccd8-da991d3c0171"
      },
      "source": [
        "#check distribution of target variable\n",
        "df['QScore'].value_counts()"
      ],
      "execution_count": 7,
      "outputs": [
        {
          "output_type": "execute_result",
          "data": {
            "text/plain": [
              "3A    51481\n",
              "2A    10576\n",
              "2B    10096\n",
              "1A       16\n",
              "1B       16\n",
              "Name: QScore, dtype: int64"
            ]
          },
          "metadata": {},
          "execution_count": 7
        }
      ]
    },
    {
      "cell_type": "code",
      "metadata": {
        "colab": {
          "base_uri": "https://localhost:8080/"
        },
        "id": "bp6hSuTQJqPu",
        "outputId": "07b55a8f-980e-47e8-b15d-b15dbe4992ef"
      },
      "source": [
        "\n",
        "#checking for null values in the dataset\n",
        "df.isna().sum()"
      ],
      "execution_count": 8,
      "outputs": [
        {
          "output_type": "execute_result",
          "data": {
            "text/plain": [
              "country               0\n",
              "year                  0\n",
              "country_code          0\n",
              "record                0\n",
              "crop_land         20472\n",
              "grazing_land      20472\n",
              "forest_land       20472\n",
              "fishing_ground    20473\n",
              "built_up_land     20473\n",
              "carbon            20473\n",
              "total                 9\n",
              "QScore                1\n",
              "dtype: int64"
            ]
          },
          "metadata": {},
          "execution_count": 8
        }
      ]
    },
    {
      "cell_type": "code",
      "metadata": {
        "colab": {
          "base_uri": "https://localhost:8080/"
        },
        "id": "FShYZuaUJteF",
        "outputId": "df43fc96-a290-46a2-ad5a-4f47ff150776"
      },
      "source": [
        "#for simplicity, we will drop the rows with missing values.\n",
        "df.dropna(inplace = True)\n",
        "df.isna().sum()\n",
        "#An obvious change in our target variable after removing the missing values is that there are only three classes left \n",
        "#and from the distribution of the 3 classes, we can see that there is an obvious imbalance between the classes. \n",
        "#There are methods that can be applied to handle this imbalance such as oversampling and undersampling.\n",
        "#Oversampling involves increasing the number of instances in the class with fewer instances while undersampling \n",
        "#involves reducing the data points in the class with more instances."
      ],
      "execution_count": 9,
      "outputs": [
        {
          "output_type": "execute_result",
          "data": {
            "text/plain": [
              "country           0\n",
              "year              0\n",
              "country_code      0\n",
              "record            0\n",
              "crop_land         0\n",
              "grazing_land      0\n",
              "forest_land       0\n",
              "fishing_ground    0\n",
              "built_up_land     0\n",
              "carbon            0\n",
              "total             0\n",
              "QScore            0\n",
              "dtype: int64"
            ]
          },
          "metadata": {},
          "execution_count": 9
        }
      ]
    },
    {
      "cell_type": "code",
      "metadata": {
        "id": "v5Ihi0fDJwJu"
      },
      "source": [
        "#reset the dataframe index\n",
        "df = df.reset_index(drop = True)"
      ],
      "execution_count": 10,
      "outputs": []
    },
    {
      "cell_type": "code",
      "metadata": {
        "colab": {
          "base_uri": "https://localhost:8080/"
        },
        "id": "Qh0aT_WRJy1_",
        "outputId": "f22adfd6-c147-4dd3-b358-db8a2f818646"
      },
      "source": [
        "#An   obvious   change   in   our   target   variable   after   removing   the   missing   values   is   that   there  are   only   three   classes   left  \n",
        "#and   from   the   distribution   of   the   3   classes,   we   can   see   that  there   is   an   obvious   imbalance   between   the   classes. \n",
        "#There   are   methods   that   can   be   applied   to  handle   this   imbalance   such   as   oversampling   and   undersampling.  \n",
        "#Oversampling   involves   increasing   the   number   of   instances   in   the   class   with   fewer   instances  while   undersampling   \n",
        "#involves   reducing   the   data   points   in   the   class   with   more   instances.  \n",
        "\n",
        "#For now, we will convert this to a binary classification problem by combining class '2A' and '1A'.\n",
        "\n",
        "df['QScore'] = df['QScore'].replace(['1A'], '2A')\n",
        "df.QScore.value_counts()"
      ],
      "execution_count": 11,
      "outputs": [
        {
          "output_type": "execute_result",
          "data": {
            "text/plain": [
              "3A    51473\n",
              "2A      240\n",
              "Name: QScore, dtype: int64"
            ]
          },
          "metadata": {},
          "execution_count": 11
        }
      ]
    },
    {
      "cell_type": "code",
      "metadata": {
        "colab": {
          "base_uri": "https://localhost:8080/",
          "height": 461
        },
        "id": "mzlFMQKRJ17H",
        "outputId": "bf1748ee-aa68-4886-8623-af4f4d6d4880"
      },
      "source": [
        "#separating the target variable and \n",
        "#selecting some samples\n",
        "df_2A = df[df.QScore=='2A']\n",
        "df_3A = df[df.QScore=='3A'].sample(350)\n",
        "data_df = df_2A.append(df_3A)\n",
        "data_df"
      ],
      "execution_count": 12,
      "outputs": [
        {
          "output_type": "execute_result",
          "data": {
            "text/html": [
              "<div>\n",
              "<style scoped>\n",
              "    .dataframe tbody tr th:only-of-type {\n",
              "        vertical-align: middle;\n",
              "    }\n",
              "\n",
              "    .dataframe tbody tr th {\n",
              "        vertical-align: top;\n",
              "    }\n",
              "\n",
              "    .dataframe thead th {\n",
              "        text-align: right;\n",
              "    }\n",
              "</style>\n",
              "<table border=\"1\" class=\"dataframe\">\n",
              "  <thead>\n",
              "    <tr style=\"text-align: right;\">\n",
              "      <th></th>\n",
              "      <th>country</th>\n",
              "      <th>year</th>\n",
              "      <th>country_code</th>\n",
              "      <th>record</th>\n",
              "      <th>crop_land</th>\n",
              "      <th>grazing_land</th>\n",
              "      <th>forest_land</th>\n",
              "      <th>fishing_ground</th>\n",
              "      <th>built_up_land</th>\n",
              "      <th>carbon</th>\n",
              "      <th>total</th>\n",
              "      <th>QScore</th>\n",
              "    </tr>\n",
              "  </thead>\n",
              "  <tbody>\n",
              "    <tr>\n",
              "      <th>1096</th>\n",
              "      <td>Algeria</td>\n",
              "      <td>2016</td>\n",
              "      <td>4</td>\n",
              "      <td>AreaPerCap</td>\n",
              "      <td>2.072989e-01</td>\n",
              "      <td>8.112722e-01</td>\n",
              "      <td>0.048357265</td>\n",
              "      <td>2.258528e-02</td>\n",
              "      <td>2.998367e-02</td>\n",
              "      <td>0.000000e+00</td>\n",
              "      <td>1.119497e+00</td>\n",
              "      <td>2A</td>\n",
              "    </tr>\n",
              "    <tr>\n",
              "      <th>1097</th>\n",
              "      <td>Algeria</td>\n",
              "      <td>2016</td>\n",
              "      <td>4</td>\n",
              "      <td>AreaTotHA</td>\n",
              "      <td>8.417600e+06</td>\n",
              "      <td>3.294260e+07</td>\n",
              "      <td>1963600</td>\n",
              "      <td>9.171000e+05</td>\n",
              "      <td>1.217520e+06</td>\n",
              "      <td>0.000000e+00</td>\n",
              "      <td>4.545842e+07</td>\n",
              "      <td>2A</td>\n",
              "    </tr>\n",
              "    <tr>\n",
              "      <th>1098</th>\n",
              "      <td>Algeria</td>\n",
              "      <td>2016</td>\n",
              "      <td>4</td>\n",
              "      <td>BiocapPerCap</td>\n",
              "      <td>2.021916e-01</td>\n",
              "      <td>2.636077e-01</td>\n",
              "      <td>0.027166736</td>\n",
              "      <td>7.947991e-03</td>\n",
              "      <td>2.924496e-02</td>\n",
              "      <td>0.000000e+00</td>\n",
              "      <td>5.301590e-01</td>\n",
              "      <td>2A</td>\n",
              "    </tr>\n",
              "    <tr>\n",
              "      <th>1099</th>\n",
              "      <td>Algeria</td>\n",
              "      <td>2016</td>\n",
              "      <td>4</td>\n",
              "      <td>BiocapTotGHA</td>\n",
              "      <td>8.210214e+06</td>\n",
              "      <td>1.070408e+07</td>\n",
              "      <td>1103135.245</td>\n",
              "      <td>3.227369e+05</td>\n",
              "      <td>1.187524e+06</td>\n",
              "      <td>0.000000e+00</td>\n",
              "      <td>2.152769e+07</td>\n",
              "      <td>2A</td>\n",
              "    </tr>\n",
              "    <tr>\n",
              "      <th>1100</th>\n",
              "      <td>Algeria</td>\n",
              "      <td>2016</td>\n",
              "      <td>4</td>\n",
              "      <td>EFConsPerCap</td>\n",
              "      <td>6.280528e-01</td>\n",
              "      <td>1.810332e-01</td>\n",
              "      <td>0.162800822</td>\n",
              "      <td>1.472910e-02</td>\n",
              "      <td>2.924496e-02</td>\n",
              "      <td>1.391455e+00</td>\n",
              "      <td>2.407316e+00</td>\n",
              "      <td>2A</td>\n",
              "    </tr>\n",
              "    <tr>\n",
              "      <th>...</th>\n",
              "      <td>...</td>\n",
              "      <td>...</td>\n",
              "      <td>...</td>\n",
              "      <td>...</td>\n",
              "      <td>...</td>\n",
              "      <td>...</td>\n",
              "      <td>...</td>\n",
              "      <td>...</td>\n",
              "      <td>...</td>\n",
              "      <td>...</td>\n",
              "      <td>...</td>\n",
              "      <td>...</td>\n",
              "    </tr>\n",
              "    <tr>\n",
              "      <th>983</th>\n",
              "      <td>Albania</td>\n",
              "      <td>2002</td>\n",
              "      <td>3</td>\n",
              "      <td>EFProdTotGHA</td>\n",
              "      <td>8.274787e+05</td>\n",
              "      <td>5.697089e+05</td>\n",
              "      <td>147121.7536</td>\n",
              "      <td>2.547538e+04</td>\n",
              "      <td>6.407975e+04</td>\n",
              "      <td>1.353172e+06</td>\n",
              "      <td>2.987037e+06</td>\n",
              "      <td>3A</td>\n",
              "    </tr>\n",
              "    <tr>\n",
              "      <th>4642</th>\n",
              "      <td>Bhutan</td>\n",
              "      <td>2012</td>\n",
              "      <td>18</td>\n",
              "      <td>BiocapPerCap</td>\n",
              "      <td>2.993287e-01</td>\n",
              "      <td>3.362938e-01</td>\n",
              "      <td>4.311682093</td>\n",
              "      <td>1.343913e-02</td>\n",
              "      <td>2.618047e-01</td>\n",
              "      <td>0.000000e+00</td>\n",
              "      <td>5.222548e+00</td>\n",
              "      <td>3A</td>\n",
              "    </tr>\n",
              "    <tr>\n",
              "      <th>46757</th>\n",
              "      <td>Burkina Faso</td>\n",
              "      <td>1980</td>\n",
              "      <td>233</td>\n",
              "      <td>EFConsPerCap</td>\n",
              "      <td>3.224507e-01</td>\n",
              "      <td>3.752669e-01</td>\n",
              "      <td>0.480790295</td>\n",
              "      <td>3.433654e-03</td>\n",
              "      <td>3.187197e-02</td>\n",
              "      <td>4.805944e-02</td>\n",
              "      <td>1.261873e+00</td>\n",
              "      <td>3A</td>\n",
              "    </tr>\n",
              "    <tr>\n",
              "      <th>31262</th>\n",
              "      <td>Nigeria</td>\n",
              "      <td>2000</td>\n",
              "      <td>159</td>\n",
              "      <td>EFConsTotGHA</td>\n",
              "      <td>7.482893e+07</td>\n",
              "      <td>1.075780e+07</td>\n",
              "      <td>30676452.16</td>\n",
              "      <td>4.792689e+06</td>\n",
              "      <td>5.074922e+06</td>\n",
              "      <td>1.867414e+07</td>\n",
              "      <td>1.448049e+08</td>\n",
              "      <td>3A</td>\n",
              "    </tr>\n",
              "    <tr>\n",
              "      <th>47906</th>\n",
              "      <td>Viet Nam</td>\n",
              "      <td>1987</td>\n",
              "      <td>237</td>\n",
              "      <td>AreaTotHA</td>\n",
              "      <td>6.345168e+06</td>\n",
              "      <td>3.648321e+05</td>\n",
              "      <td>9735726.131000001</td>\n",
              "      <td>4.298290e+07</td>\n",
              "      <td>1.330370e+06</td>\n",
              "      <td>0.000000e+00</td>\n",
              "      <td>6.075900e+07</td>\n",
              "      <td>3A</td>\n",
              "    </tr>\n",
              "  </tbody>\n",
              "</table>\n",
              "<p>590 rows × 12 columns</p>\n",
              "</div>"
            ],
            "text/plain": [
              "            country  year  country_code  ...        carbon         total  QScore\n",
              "1096        Algeria  2016             4  ...  0.000000e+00  1.119497e+00      2A\n",
              "1097        Algeria  2016             4  ...  0.000000e+00  4.545842e+07      2A\n",
              "1098        Algeria  2016             4  ...  0.000000e+00  5.301590e-01      2A\n",
              "1099        Algeria  2016             4  ...  0.000000e+00  2.152769e+07      2A\n",
              "1100        Algeria  2016             4  ...  1.391455e+00  2.407316e+00      2A\n",
              "...             ...   ...           ...  ...           ...           ...     ...\n",
              "983         Albania  2002             3  ...  1.353172e+06  2.987037e+06      3A\n",
              "4642         Bhutan  2012            18  ...  0.000000e+00  5.222548e+00      3A\n",
              "46757  Burkina Faso  1980           233  ...  4.805944e-02  1.261873e+00      3A\n",
              "31262       Nigeria  2000           159  ...  1.867414e+07  1.448049e+08      3A\n",
              "47906      Viet Nam  1987           237  ...  0.000000e+00  6.075900e+07      3A\n",
              "\n",
              "[590 rows x 12 columns]"
            ]
          },
          "metadata": {},
          "execution_count": 12
        }
      ]
    },
    {
      "cell_type": "code",
      "metadata": {
        "colab": {
          "base_uri": "https://localhost:8080/"
        },
        "id": "hJdobC-HKyIl",
        "outputId": "29b42f8b-e440-4faf-8930-06ac7ec034d9"
      },
      "source": [
        "#So proceeding from line 30\n",
        "#we would like to reshuffle the target variable so that it will be well distributed.\n",
        "#so we import the scikit-learn utils class, calling the shuffle function, and pass the data frame into the parenthesis.\n",
        "\n",
        "#After which we reset index calling the drop function, so as to have one index column for the dataset\n",
        "\n",
        "#to reshuffle the dataset for randomness\n",
        "import sklearn.utils\n",
        "data_df = sklearn.utils.shuffle(data_df)\n",
        "data_df = data_df.reset_index(drop=True)\n",
        "data_df.shape\n",
        "data_df.QScore.value_counts()"
      ],
      "execution_count": 13,
      "outputs": [
        {
          "output_type": "execute_result",
          "data": {
            "text/plain": [
              "3A    350\n",
              "2A    240\n",
              "Name: QScore, dtype: int64"
            ]
          },
          "metadata": {},
          "execution_count": 13
        }
      ]
    },
    {
      "cell_type": "code",
      "metadata": {
        "colab": {
          "base_uri": "https://localhost:8080/"
        },
        "id": "QlaBIaWiK6fl",
        "outputId": "0b8f2a3b-48cb-4160-be54-f75e6e936c23"
      },
      "source": [
        "#check the datatype of the dataset\n",
        "data_df.dtypes\n"
      ],
      "execution_count": 14,
      "outputs": [
        {
          "output_type": "execute_result",
          "data": {
            "text/plain": [
              "country            object\n",
              "year                int64\n",
              "country_code        int64\n",
              "record             object\n",
              "crop_land         float64\n",
              "grazing_land      float64\n",
              "forest_land        object\n",
              "fishing_ground    float64\n",
              "built_up_land     float64\n",
              "carbon            float64\n",
              "total             float64\n",
              "QScore             object\n",
              "dtype: object"
            ]
          },
          "metadata": {},
          "execution_count": 14
        }
      ]
    },
    {
      "cell_type": "code",
      "metadata": {
        "id": "v1DbTWPNLP9l"
      },
      "source": [
        "#let's preview the feature to be encoded before encoding\n",
        "data_df.record"
      ],
      "execution_count": null,
      "outputs": []
    },
    {
      "cell_type": "code",
      "metadata": {
        "id": "QabpNYu5LCU1"
      },
      "source": [
        "# from the above, we will be dropping country code, country and year\n",
        "#because they are ambiguous to what we want to predict\n",
        "#and also we will encode the record feature\n",
        "\n",
        "#One of the feature is categorical, so we need to encode it ahead \n",
        "from sklearn.preprocessing import LabelEncoder\n",
        "encoder = LabelEncoder()\n",
        "data_df.record = encoder.fit_transform(data_df.record)"
      ],
      "execution_count": 15,
      "outputs": []
    },
    {
      "cell_type": "code",
      "metadata": {
        "colab": {
          "base_uri": "https://localhost:8080/"
        },
        "id": "IEnjNyMQLLCN",
        "outputId": "d48380a6-5f35-474b-847c-c14ebea7863b"
      },
      "source": [
        "#let's preview the encoded feature\n",
        "data_df.record"
      ],
      "execution_count": 16,
      "outputs": [
        {
          "output_type": "execute_result",
          "data": {
            "text/plain": [
              "0      3\n",
              "1      3\n",
              "2      2\n",
              "3      0\n",
              "4      5\n",
              "      ..\n",
              "585    0\n",
              "586    5\n",
              "587    2\n",
              "588    2\n",
              "589    6\n",
              "Name: record, Length: 590, dtype: int64"
            ]
          },
          "metadata": {},
          "execution_count": 16
        }
      ]
    },
    {
      "cell_type": "code",
      "metadata": {
        "id": "fV58NGVsLYce"
      },
      "source": [
        "#more preprocessing\n",
        "data_df = data_df.drop(columns=['country_code', 'country', 'year'])\n",
        "X = data_df.drop(columns = 'QScore')\n",
        "y = data_df['QScore']"
      ],
      "execution_count": 17,
      "outputs": []
    },
    {
      "cell_type": "code",
      "metadata": {
        "colab": {
          "base_uri": "https://localhost:8080/"
        },
        "id": "ZKSl8HOdLedm",
        "outputId": "b84c1d5a-41ff-4e8d-f594-3464b6a73f9f"
      },
      "source": [
        "#split the data into training and testing sets\n",
        "from sklearn.model_selection import train_test_split\n",
        "x_train, x_test, y_train, y_test = train_test_split(X, y, test_size=0.3, random_state=0)\n",
        "y_train.value_counts()"
      ],
      "execution_count": 18,
      "outputs": [
        {
          "output_type": "execute_result",
          "data": {
            "text/plain": [
              "3A    245\n",
              "2A    168\n",
              "Name: QScore, dtype: int64"
            ]
          },
          "metadata": {},
          "execution_count": 18
        }
      ]
    },
    {
      "cell_type": "code",
      "metadata": {
        "colab": {
          "base_uri": "https://localhost:8080/"
        },
        "id": "yfaxtCmeLhet",
        "outputId": "a2cad2f8-7fd2-47b5-feec-bded0afab1a4"
      },
      "source": [
        "#installing imblearn module (uncomment the pip command to install imblearn)\n",
        "#!pip install imblearn\n",
        "\n",
        "#encode categorical variable\n",
        "from sklearn.preprocessing import LabelEncoder\n",
        "encoder = LabelEncoder()\n",
        "x_train.record = encoder.fit_transform(x_train.record)\n",
        "x_test.record = encoder.transform(x_test.record)\n",
        "\n",
        "#the encoded feature\n",
        "#encode   categorical   variable  \n",
        "#why the label encoder was used to transform the 'record' column is what i don't understand...i thought that it was supposed to be a categorical variable???\n",
        "#->The column label was transformed from categorical data which are strings, to non categorical data which are numbers,\n",
        "# because the SMOTE library does not accept strings only numbers. The alternative would have been to drop the 'record' column entirely,\n",
        "# but since it's very important in the dataset we had to transform it so the SMOTE library could work on the dataset.\n",
        "\n",
        "#SMOTE (synthetic minority oversampling technique) is one of the most commonly used oversampling methods to solve the imbalance problem.\n",
        "#It aims to balance class distribution by randomly increasing minority class examples by replicating them. x_train.record"
      ],
      "execution_count": 24,
      "outputs": [
        {
          "output_type": "stream",
          "name": "stderr",
          "text": [
            "/usr/local/lib/python3.7/dist-packages/pandas/core/generic.py:5170: SettingWithCopyWarning: \n",
            "A value is trying to be set on a copy of a slice from a DataFrame.\n",
            "Try using .loc[row_indexer,col_indexer] = value instead\n",
            "\n",
            "See the caveats in the documentation: https://pandas.pydata.org/pandas-docs/stable/user_guide/indexing.html#returning-a-view-versus-a-copy\n",
            "  self[name] = value\n"
          ]
        }
      ]
    },
    {
      "cell_type": "code",
      "metadata": {
        "colab": {
          "base_uri": "https://localhost:8080/"
        },
        "id": "GRcVXAZRL3BF",
        "outputId": "5cdb17ef-2546-486f-8394-fd0649cbdfa4"
      },
      "source": [
        "\n",
        "\n",
        "#There is still an imbalance in the class distribution. For this, we use SMOTE only on the training data to handle this.\n",
        "import imblearn\n",
        "from imblearn.over_sampling import SMOTE\n",
        "smote = SMOTE(random_state=1)\n",
        "x_train_balanced, y_balanced = smote.fit_sample(x_train, y_train)\n",
        "y_train.value_counts()"
      ],
      "execution_count": 25,
      "outputs": [
        {
          "output_type": "stream",
          "name": "stderr",
          "text": [
            "/usr/local/lib/python3.7/dist-packages/sklearn/utils/deprecation.py:87: FutureWarning: Function safe_indexing is deprecated; safe_indexing is deprecated in version 0.22 and will be removed in version 0.24.\n",
            "  warnings.warn(msg, category=FutureWarning)\n"
          ]
        },
        {
          "output_type": "execute_result",
          "data": {
            "text/plain": [
              "3A    245\n",
              "2A    168\n",
              "Name: QScore, dtype: int64"
            ]
          },
          "metadata": {},
          "execution_count": 25
        }
      ]
    },
    {
      "cell_type": "code",
      "metadata": {
        "id": "HTxnzzGnL61G"
      },
      "source": [
        "#min max scaler\n",
        "from sklearn.preprocessing import MinMaxScaler\n",
        "scaler = MinMaxScaler()\n",
        "x_train_balanced = pd.DataFrame(x_train_balanced, columns=x_train.columns)\n",
        "normalised_train_df = scaler.fit_transform(x_train_balanced.drop(columns=['record']))\n",
        "normalised_train_df = pd.DataFrame(normalised_train_df, columns=x_train_balanced.drop(columns=['record']).columns)\n",
        "normalised_train_df['record'] = x_train_balanced['record']\n",
        "\n",
        "\n",
        "x_test = x_test.reset_index(drop=True)\n",
        "normalised_test_df = scaler.transform(x_test.drop(columns=['record']))\n",
        "normalised_test_df = pd.DataFrame(normalised_test_df, columns=x_test.drop(columns=['record']).columns)\n",
        "normalised_test_df['record'] = x_test['record']"
      ],
      "execution_count": 31,
      "outputs": []
    },
    {
      "cell_type": "code",
      "metadata": {
        "colab": {
          "base_uri": "https://localhost:8080/",
          "height": 424
        },
        "id": "CtO0uiWDMtS9",
        "outputId": "f64d0d19-7fd7-4b8b-9428-1fb6931a3d95"
      },
      "source": [
        "#check x_test\n",
        "x_test"
      ],
      "execution_count": 28,
      "outputs": [
        {
          "output_type": "execute_result",
          "data": {
            "text/html": [
              "<div>\n",
              "<style scoped>\n",
              "    .dataframe tbody tr th:only-of-type {\n",
              "        vertical-align: middle;\n",
              "    }\n",
              "\n",
              "    .dataframe tbody tr th {\n",
              "        vertical-align: top;\n",
              "    }\n",
              "\n",
              "    .dataframe thead th {\n",
              "        text-align: right;\n",
              "    }\n",
              "</style>\n",
              "<table border=\"1\" class=\"dataframe\">\n",
              "  <thead>\n",
              "    <tr style=\"text-align: right;\">\n",
              "      <th></th>\n",
              "      <th>record</th>\n",
              "      <th>crop_land</th>\n",
              "      <th>grazing_land</th>\n",
              "      <th>forest_land</th>\n",
              "      <th>fishing_ground</th>\n",
              "      <th>built_up_land</th>\n",
              "      <th>carbon</th>\n",
              "      <th>total</th>\n",
              "    </tr>\n",
              "  </thead>\n",
              "  <tbody>\n",
              "    <tr>\n",
              "      <th>0</th>\n",
              "      <td>5</td>\n",
              "      <td>4.158552e+06</td>\n",
              "      <td>5.137046e+05</td>\n",
              "      <td>2811412.039</td>\n",
              "      <td>1.395335e+05</td>\n",
              "      <td>5.379828e+05</td>\n",
              "      <td>9.234231e+05</td>\n",
              "      <td>9.084608e+06</td>\n",
              "    </tr>\n",
              "    <tr>\n",
              "      <th>1</th>\n",
              "      <td>7</td>\n",
              "      <td>7.632476e+06</td>\n",
              "      <td>1.112202e+07</td>\n",
              "      <td>5138340.002</td>\n",
              "      <td>4.817236e+04</td>\n",
              "      <td>4.815138e+05</td>\n",
              "      <td>1.260642e+06</td>\n",
              "      <td>2.568316e+07</td>\n",
              "    </tr>\n",
              "    <tr>\n",
              "      <th>2</th>\n",
              "      <td>1</td>\n",
              "      <td>1.820000e+04</td>\n",
              "      <td>1.390000e+04</td>\n",
              "      <td>8128400</td>\n",
              "      <td>4.602000e+06</td>\n",
              "      <td>1.013870e+03</td>\n",
              "      <td>0.000000e+00</td>\n",
              "      <td>1.276351e+07</td>\n",
              "    </tr>\n",
              "    <tr>\n",
              "      <th>3</th>\n",
              "      <td>6</td>\n",
              "      <td>2.525098e-01</td>\n",
              "      <td>3.435519e-01</td>\n",
              "      <td>0.817085801</td>\n",
              "      <td>7.470000e-05</td>\n",
              "      <td>7.062765e-02</td>\n",
              "      <td>2.993072e-01</td>\n",
              "      <td>1.783157e+00</td>\n",
              "    </tr>\n",
              "    <tr>\n",
              "      <th>4</th>\n",
              "      <td>3</td>\n",
              "      <td>9.221366e+03</td>\n",
              "      <td>4.706845e+02</td>\n",
              "      <td>444785.889</td>\n",
              "      <td>3.197453e+06</td>\n",
              "      <td>4.893431e+03</td>\n",
              "      <td>0.000000e+00</td>\n",
              "      <td>3.656824e+06</td>\n",
              "    </tr>\n",
              "    <tr>\n",
              "      <th>...</th>\n",
              "      <td>...</td>\n",
              "      <td>...</td>\n",
              "      <td>...</td>\n",
              "      <td>...</td>\n",
              "      <td>...</td>\n",
              "      <td>...</td>\n",
              "      <td>...</td>\n",
              "      <td>...</td>\n",
              "    </tr>\n",
              "    <tr>\n",
              "      <th>172</th>\n",
              "      <td>4</td>\n",
              "      <td>3.157451e-01</td>\n",
              "      <td>3.718924e-01</td>\n",
              "      <td>0.665547024</td>\n",
              "      <td>1.756159e-02</td>\n",
              "      <td>7.062765e-02</td>\n",
              "      <td>4.170737e-01</td>\n",
              "      <td>1.858447e+00</td>\n",
              "    </tr>\n",
              "    <tr>\n",
              "      <th>173</th>\n",
              "      <td>1</td>\n",
              "      <td>4.924728e+06</td>\n",
              "      <td>2.751561e+06</td>\n",
              "      <td>4008129.34</td>\n",
              "      <td>6.897252e+06</td>\n",
              "      <td>2.927351e+05</td>\n",
              "      <td>0.000000e+00</td>\n",
              "      <td>1.887441e+07</td>\n",
              "    </tr>\n",
              "    <tr>\n",
              "      <th>174</th>\n",
              "      <td>0</td>\n",
              "      <td>2.727179e-01</td>\n",
              "      <td>1.081437e+00</td>\n",
              "      <td>0.922864406</td>\n",
              "      <td>5.819276e-01</td>\n",
              "      <td>2.779202e-02</td>\n",
              "      <td>0.000000e+00</td>\n",
              "      <td>2.886739e+00</td>\n",
              "    </tr>\n",
              "    <tr>\n",
              "      <th>175</th>\n",
              "      <td>2</td>\n",
              "      <td>4.456409e-01</td>\n",
              "      <td>4.409817e+00</td>\n",
              "      <td>3.248838238</td>\n",
              "      <td>8.150677e-01</td>\n",
              "      <td>4.779697e-02</td>\n",
              "      <td>0.000000e+00</td>\n",
              "      <td>8.967161e+00</td>\n",
              "    </tr>\n",
              "    <tr>\n",
              "      <th>176</th>\n",
              "      <td>3</td>\n",
              "      <td>4.605966e+06</td>\n",
              "      <td>6.261233e+05</td>\n",
              "      <td>1541760.681</td>\n",
              "      <td>7.977987e+04</td>\n",
              "      <td>1.046806e+06</td>\n",
              "      <td>0.000000e+00</td>\n",
              "      <td>7.900435e+06</td>\n",
              "    </tr>\n",
              "  </tbody>\n",
              "</table>\n",
              "<p>177 rows × 8 columns</p>\n",
              "</div>"
            ],
            "text/plain": [
              "     record     crop_land  ...        carbon         total\n",
              "0         5  4.158552e+06  ...  9.234231e+05  9.084608e+06\n",
              "1         7  7.632476e+06  ...  1.260642e+06  2.568316e+07\n",
              "2         1  1.820000e+04  ...  0.000000e+00  1.276351e+07\n",
              "3         6  2.525098e-01  ...  2.993072e-01  1.783157e+00\n",
              "4         3  9.221366e+03  ...  0.000000e+00  3.656824e+06\n",
              "..      ...           ...  ...           ...           ...\n",
              "172       4  3.157451e-01  ...  4.170737e-01  1.858447e+00\n",
              "173       1  4.924728e+06  ...  0.000000e+00  1.887441e+07\n",
              "174       0  2.727179e-01  ...  0.000000e+00  2.886739e+00\n",
              "175       2  4.456409e-01  ...  0.000000e+00  8.967161e+00\n",
              "176       3  4.605966e+06  ...  0.000000e+00  7.900435e+06\n",
              "\n",
              "[177 rows x 8 columns]"
            ]
          },
          "metadata": {},
          "execution_count": 28
        }
      ]
    },
    {
      "cell_type": "code",
      "metadata": {
        "colab": {
          "base_uri": "https://localhost:8080/"
        },
        "id": "Tbsl14w4M9uk",
        "outputId": "e21fd406-8a68-4724-eba7-57c8a18828c2"
      },
      "source": [
        "#check y_test\n",
        "y_test"
      ],
      "execution_count": 32,
      "outputs": [
        {
          "output_type": "execute_result",
          "data": {
            "text/plain": [
              "225    3A\n",
              "14     3A\n",
              "85     2A\n",
              "418    2A\n",
              "132    3A\n",
              "       ..\n",
              "346    2A\n",
              "369    3A\n",
              "140    3A\n",
              "533    3A\n",
              "171    2A\n",
              "Name: QScore, Length: 177, dtype: object"
            ]
          },
          "metadata": {},
          "execution_count": 32
        }
      ]
    },
    {
      "cell_type": "code",
      "metadata": {
        "colab": {
          "base_uri": "https://localhost:8080/",
          "height": 424
        },
        "id": "zeptx5l3MfLc",
        "outputId": "66ef9c3e-d8b1-45c9-b479-1c132025978e"
      },
      "source": [
        "#check x_train\n",
        "x_train"
      ],
      "execution_count": 29,
      "outputs": [
        {
          "output_type": "execute_result",
          "data": {
            "text/html": [
              "<div>\n",
              "<style scoped>\n",
              "    .dataframe tbody tr th:only-of-type {\n",
              "        vertical-align: middle;\n",
              "    }\n",
              "\n",
              "    .dataframe tbody tr th {\n",
              "        vertical-align: top;\n",
              "    }\n",
              "\n",
              "    .dataframe thead th {\n",
              "        text-align: right;\n",
              "    }\n",
              "</style>\n",
              "<table border=\"1\" class=\"dataframe\">\n",
              "  <thead>\n",
              "    <tr style=\"text-align: right;\">\n",
              "      <th></th>\n",
              "      <th>record</th>\n",
              "      <th>crop_land</th>\n",
              "      <th>grazing_land</th>\n",
              "      <th>forest_land</th>\n",
              "      <th>fishing_ground</th>\n",
              "      <th>built_up_land</th>\n",
              "      <th>carbon</th>\n",
              "      <th>total</th>\n",
              "    </tr>\n",
              "  </thead>\n",
              "  <tbody>\n",
              "    <tr>\n",
              "      <th>285</th>\n",
              "      <td>2</td>\n",
              "      <td>2.993287e-01</td>\n",
              "      <td>3.362938e-01</td>\n",
              "      <td>4.311682093</td>\n",
              "      <td>1.343913e-02</td>\n",
              "      <td>0.261805</td>\n",
              "      <td>0.000000</td>\n",
              "      <td>5.222548e+00</td>\n",
              "    </tr>\n",
              "    <tr>\n",
              "      <th>113</th>\n",
              "      <td>0</td>\n",
              "      <td>2.085225e-01</td>\n",
              "      <td>6.528357e-01</td>\n",
              "      <td>4.227857177</td>\n",
              "      <td>4.443133e-02</td>\n",
              "      <td>0.130795</td>\n",
              "      <td>0.000000</td>\n",
              "      <td>5.264442e+00</td>\n",
              "    </tr>\n",
              "    <tr>\n",
              "      <th>18</th>\n",
              "      <td>4</td>\n",
              "      <td>5.363930e-01</td>\n",
              "      <td>3.948624e-01</td>\n",
              "      <td>0.152293385</td>\n",
              "      <td>3.584621e-01</td>\n",
              "      <td>0.182896</td>\n",
              "      <td>4.338376</td>\n",
              "      <td>5.963282e+00</td>\n",
              "    </tr>\n",
              "    <tr>\n",
              "      <th>76</th>\n",
              "      <td>6</td>\n",
              "      <td>2.915519e+00</td>\n",
              "      <td>3.420547e+00</td>\n",
              "      <td>1.059972742</td>\n",
              "      <td>7.468023e-02</td>\n",
              "      <td>0.065155</td>\n",
              "      <td>6.675360</td>\n",
              "      <td>1.421123e+01</td>\n",
              "    </tr>\n",
              "    <tr>\n",
              "      <th>206</th>\n",
              "      <td>0</td>\n",
              "      <td>5.016420e-01</td>\n",
              "      <td>8.353072e-02</td>\n",
              "      <td>0.073346837</td>\n",
              "      <td>2.036776e-02</td>\n",
              "      <td>0.029992</td>\n",
              "      <td>0.000000</td>\n",
              "      <td>7.088794e-01</td>\n",
              "    </tr>\n",
              "    <tr>\n",
              "      <th>...</th>\n",
              "      <td>...</td>\n",
              "      <td>...</td>\n",
              "      <td>...</td>\n",
              "      <td>...</td>\n",
              "      <td>...</td>\n",
              "      <td>...</td>\n",
              "      <td>...</td>\n",
              "      <td>...</td>\n",
              "    </tr>\n",
              "    <tr>\n",
              "      <th>277</th>\n",
              "      <td>6</td>\n",
              "      <td>1.238076e-01</td>\n",
              "      <td>1.683009e-02</td>\n",
              "      <td>0.00232796</td>\n",
              "      <td>1.255043e-03</td>\n",
              "      <td>0.028138</td>\n",
              "      <td>1.323674</td>\n",
              "      <td>1.496033e+00</td>\n",
              "    </tr>\n",
              "    <tr>\n",
              "      <th>9</th>\n",
              "      <td>4</td>\n",
              "      <td>3.395404e-01</td>\n",
              "      <td>7.870693e-02</td>\n",
              "      <td>0.245210175</td>\n",
              "      <td>1.218363e-03</td>\n",
              "      <td>0.077468</td>\n",
              "      <td>0.113645</td>\n",
              "      <td>8.557883e-01</td>\n",
              "    </tr>\n",
              "    <tr>\n",
              "      <th>359</th>\n",
              "      <td>0</td>\n",
              "      <td>2.218488e-01</td>\n",
              "      <td>6.060860e-02</td>\n",
              "      <td>0.13036614</td>\n",
              "      <td>7.585633e-02</td>\n",
              "      <td>0.035484</td>\n",
              "      <td>0.000000</td>\n",
              "      <td>5.241638e-01</td>\n",
              "    </tr>\n",
              "    <tr>\n",
              "      <th>192</th>\n",
              "      <td>3</td>\n",
              "      <td>7.835674e+03</td>\n",
              "      <td>4.690748e+02</td>\n",
              "      <td>444667.6706</td>\n",
              "      <td>3.186518e+06</td>\n",
              "      <td>4065.139036</td>\n",
              "      <td>0.000000</td>\n",
              "      <td>3.643556e+06</td>\n",
              "    </tr>\n",
              "    <tr>\n",
              "      <th>559</th>\n",
              "      <td>3</td>\n",
              "      <td>4.977138e+06</td>\n",
              "      <td>6.808881e+06</td>\n",
              "      <td>6929742.099</td>\n",
              "      <td>1.584883e+06</td>\n",
              "      <td>432585.687500</td>\n",
              "      <td>0.000000</td>\n",
              "      <td>2.073323e+07</td>\n",
              "    </tr>\n",
              "  </tbody>\n",
              "</table>\n",
              "<p>413 rows × 8 columns</p>\n",
              "</div>"
            ],
            "text/plain": [
              "     record     crop_land  grazing_land  ...  built_up_land    carbon         total\n",
              "285       2  2.993287e-01  3.362938e-01  ...       0.261805  0.000000  5.222548e+00\n",
              "113       0  2.085225e-01  6.528357e-01  ...       0.130795  0.000000  5.264442e+00\n",
              "18        4  5.363930e-01  3.948624e-01  ...       0.182896  4.338376  5.963282e+00\n",
              "76        6  2.915519e+00  3.420547e+00  ...       0.065155  6.675360  1.421123e+01\n",
              "206       0  5.016420e-01  8.353072e-02  ...       0.029992  0.000000  7.088794e-01\n",
              "..      ...           ...           ...  ...            ...       ...           ...\n",
              "277       6  1.238076e-01  1.683009e-02  ...       0.028138  1.323674  1.496033e+00\n",
              "9         4  3.395404e-01  7.870693e-02  ...       0.077468  0.113645  8.557883e-01\n",
              "359       0  2.218488e-01  6.060860e-02  ...       0.035484  0.000000  5.241638e-01\n",
              "192       3  7.835674e+03  4.690748e+02  ...    4065.139036  0.000000  3.643556e+06\n",
              "559       3  4.977138e+06  6.808881e+06  ...  432585.687500  0.000000  2.073323e+07\n",
              "\n",
              "[413 rows x 8 columns]"
            ]
          },
          "metadata": {},
          "execution_count": 29
        }
      ]
    },
    {
      "cell_type": "code",
      "metadata": {
        "colab": {
          "base_uri": "https://localhost:8080/"
        },
        "id": "muBp_o2zMkvF",
        "outputId": "544a0fba-c8c5-4c75-d1eb-ce703b9809c0"
      },
      "source": [
        "#check y_train\n",
        "y_train"
      ],
      "execution_count": 30,
      "outputs": [
        {
          "output_type": "execute_result",
          "data": {
            "text/plain": [
              "285    3A\n",
              "113    3A\n",
              "18     3A\n",
              "76     3A\n",
              "206    3A\n",
              "       ..\n",
              "277    2A\n",
              "9      3A\n",
              "359    3A\n",
              "192    3A\n",
              "559    3A\n",
              "Name: QScore, Length: 413, dtype: object"
            ]
          },
          "metadata": {},
          "execution_count": 30
        }
      ]
    },
    {
      "cell_type": "code",
      "metadata": {
        "colab": {
          "base_uri": "https://localhost:8080/"
        },
        "id": "LxPZqU4iNHD8",
        "outputId": "ef3ed978-4dc4-4b91-c32d-307ce8994f06"
      },
      "source": [
        "#Logistic Regression\n",
        "from sklearn.linear_model import LogisticRegression\n",
        "log_reg = LogisticRegression()\n",
        "log_reg.fit(normalised_train_df, y_balanced)\n",
        "#returns\n",
        "LogisticRegression(C=1.0, class_weight=None, dual=False, fit_intercept=True,\n",
        "                   intercept_scaling=1, l1_ratio=None, max_iter=100,\n",
        "                   multi_class='auto', n_jobs=None, penalty='l2',\n",
        "                   random_state=None, solver='lbfgs', tol=0.0001, verbose=0,\n",
        "                   warm_start=False)"
      ],
      "execution_count": 33,
      "outputs": [
        {
          "output_type": "execute_result",
          "data": {
            "text/plain": [
              "LogisticRegression(C=1.0, class_weight=None, dual=False, fit_intercept=True,\n",
              "                   intercept_scaling=1, l1_ratio=None, max_iter=100,\n",
              "                   multi_class='auto', n_jobs=None, penalty='l2',\n",
              "                   random_state=None, solver='lbfgs', tol=0.0001, verbose=0,\n",
              "                   warm_start=False)"
            ]
          },
          "metadata": {},
          "execution_count": 33
        }
      ]
    },
    {
      "cell_type": "markdown",
      "metadata": {
        "id": "D0V-IBdrNQC1"
      },
      "source": [
        "\n",
        "# LESSON 2\n",
        "# MEASURING CLASSIFICATION PERFORMANCE"
      ]
    },
    {
      "cell_type": "markdown",
      "metadata": {
        "id": "uEKeUHxkNcdT"
      },
      "source": [
        "Cross Validation and Accuracy"
      ]
    },
    {
      "cell_type": "code",
      "metadata": {
        "id": "3ID6m3YVNfNM"
      },
      "source": [
        ""
      ],
      "execution_count": null,
      "outputs": []
    }
  ]
}